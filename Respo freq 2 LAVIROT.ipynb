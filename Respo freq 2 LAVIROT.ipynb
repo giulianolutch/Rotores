{
 "cells": [
  {
   "cell_type": "code",
   "execution_count": 6,
   "metadata": {
    "collapsed": true
   },
   "outputs": [],
   "source": [
    "import numpy as np\n",
    "import numpy.linalg as la\n",
    "import scipy as sp\n",
    "from scipy.integrate import odeint\n",
    "import matplotlib.pyplot as plt\n",
    "%matplotlib inline"
   ]
  },
  {
   "cell_type": "code",
   "execution_count": 7,
   "metadata": {
    "collapsed": true
   },
   "outputs": [],
   "source": [
    "M = np.loadtxt('Mat-M.txt')\n",
    "K = np.loadtxt('Mat-K.txt')\n",
    "G = np.loadtxt('Mat-G.txt')\n",
    "C = np.loadtxt('Mat-C.txt')"
   ]
  },
  {
   "cell_type": "code",
   "execution_count": 8,
   "metadata": {
    "collapsed": false
   },
   "outputs": [],
   "source": [
    "#desbalanceamento residual maximo\n",
    "U=1e-3 #[kg.m]\n",
    "n=int(np.sqrt(np.size(M)))\n",
    "\n",
    "#frequencias em Hz\n",
    "\n",
    "def resposta_frequencia(w0, wf):\n",
    "    Omega = np.linspace(w0,wf,100*(wf-w0))\n",
    "    X = sp.zeros((len(Omega), n))\n",
    "    for i in range(len(Omega)):\n",
    "        w=Omega[i]\n",
    "        F=U*w**2*np.ones(n)\n",
    "\n",
    "        Z=-1*w**2*M+1j*w*(C+G*w)+K\n",
    "        Zinv=la.inv(Z)\n",
    "\n",
    "        Xt=Zinv @ F\n",
    "        Xabs = np.absolute(Xt)\n",
    "        X[i] = sp.transpose(Xabs)\n",
    "\n",
    "    return Omega, X"
   ]
  },
  {
   "cell_type": "code",
   "execution_count": 9,
   "metadata": {
    "collapsed": false
   },
   "outputs": [
    {
     "name": "stdout",
     "output_type": "stream",
     "text": [
      "192\n"
     ]
    }
   ],
   "source": [
    "w,x=resposta_frequencia(100,1000)\n",
    "print(len(x[0,:]))"
   ]
  },
  {
   "cell_type": "code",
   "execution_count": 10,
   "metadata": {
    "collapsed": false
   },
   "outputs": [
    {
     "data": {
      "text/plain": [
       "[<matplotlib.lines.Line2D at 0x28871e4da90>]"
      ]
     },
     "execution_count": 10,
     "metadata": {},
     "output_type": "execute_result"
    },
    {
     "data": {
      "image/png": "[encoded data removed]",
      "text/plain": [
       "<matplotlib.figure.Figure at 0x28871df14e0>"
      ]
     },
     "metadata": {},
     "output_type": "display_data"
    }
   ],
   "source": [
    "plt.plot(w, x[:,0])"
   ]
  },
  {
   "cell_type": "code",
   "execution_count": null,
   "metadata": {
    "collapsed": true
   },
   "outputs": [],
   "source": []
  }
 ],
 "metadata": {
  "anaconda-cloud": {},
  "kernelspec": {
   "display_name": "Python [Root]",
   "language": "python",
   "name": "Python [Root]"
  },
  "language_info": {
   "codemirror_mode": {
    "name": "ipython",
    "version": 3
   },
   "file_extension": ".py",
   "mimetype": "text/x-python",
   "name": "python",
   "nbconvert_exporter": "python",
   "pygments_lexer": "ipython3",
   "version": "3.5.2"
  }
 },
 "nbformat": 4,
 "nbformat_minor": 0
}
